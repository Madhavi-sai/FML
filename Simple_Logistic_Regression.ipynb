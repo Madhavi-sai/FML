{
  "nbformat": 4,
  "nbformat_minor": 0,
  "metadata": {
    "colab": {
      "name": "Simple Logistic Regression.ipynb",
      "provenance": [],
      "include_colab_link": true
    },
    "kernelspec": {
      "name": "python3",
      "display_name": "Python 3"
    },
    "language_info": {
      "name": "python"
    }
  },
  "cells": [
    {
      "cell_type": "markdown",
      "metadata": {
        "id": "view-in-github",
        "colab_type": "text"
      },
      "source": [
        "<a href=\"https://colab.research.google.com/github/Madhavi-sai/FML/blob/main/Simple_Logistic_Regression.ipynb\" target=\"_parent\"><img src=\"https://colab.research.google.com/assets/colab-badge.svg\" alt=\"Open In Colab\"/></a>"
      ]
    },
    {
      "cell_type": "markdown",
      "source": [
        "# **Logistic Regression**\n",
        "\n"
      ],
      "metadata": {
        "id": "bebKf4oNxdEV"
      }
    },
    {
      "cell_type": "code",
      "execution_count": 14,
      "metadata": {
        "id": "S86zAjKFxX8Z"
      },
      "outputs": [],
      "source": [
        "#Import required packages\n",
        "\n",
        "import matplotlib.pyplot as plt\n",
        "import numpy as np\n",
        "import pandas as pd\n",
        "from sklearn.preprocessing import StandardScaler \n",
        "from sklearn.linear_model import LogisticRegression\n",
        "from sklearn.metrics import classification_report, confusion_matrix\n",
        "from sklearn.model_selection import train_test_split"
      ]
    },
    {
      "cell_type": "code",
      "source": [
        "#Get the data\n",
        "diabetes_data = pd.read_csv(\"/content/diabetes.csv\")\n",
        "diabetes_data.head()"
      ],
      "metadata": {
        "id": "yHsqX3ipx7O4",
        "colab": {
          "base_uri": "https://localhost:8080/",
          "height": 206
        },
        "outputId": "3baf1684-9d53-4be3-9163-fdd83bcb535a"
      },
      "execution_count": 4,
      "outputs": [
        {
          "output_type": "execute_result",
          "data": {
            "text/plain": [
              "   pregnancies  glucose  diastolic  triceps  insulin   bmi    dpf  age  \\\n",
              "0            6      148         72       35        0  33.6  0.627   50   \n",
              "1            1       85         66       29        0  26.6  0.351   31   \n",
              "2            8      183         64        0        0  23.3  0.672   32   \n",
              "3            1       89         66       23       94  28.1  0.167   21   \n",
              "4            0      137         40       35      168  43.1  2.288   33   \n",
              "\n",
              "   diabetes  \n",
              "0         1  \n",
              "1         0  \n",
              "2         1  \n",
              "3         0  \n",
              "4         1  "
            ],
            "text/html": [
              "\n",
              "  <div id=\"df-955f91e8-3cca-4727-8122-ec8cab710cf2\">\n",
              "    <div class=\"colab-df-container\">\n",
              "      <div>\n",
              "<style scoped>\n",
              "    .dataframe tbody tr th:only-of-type {\n",
              "        vertical-align: middle;\n",
              "    }\n",
              "\n",
              "    .dataframe tbody tr th {\n",
              "        vertical-align: top;\n",
              "    }\n",
              "\n",
              "    .dataframe thead th {\n",
              "        text-align: right;\n",
              "    }\n",
              "</style>\n",
              "<table border=\"1\" class=\"dataframe\">\n",
              "  <thead>\n",
              "    <tr style=\"text-align: right;\">\n",
              "      <th></th>\n",
              "      <th>pregnancies</th>\n",
              "      <th>glucose</th>\n",
              "      <th>diastolic</th>\n",
              "      <th>triceps</th>\n",
              "      <th>insulin</th>\n",
              "      <th>bmi</th>\n",
              "      <th>dpf</th>\n",
              "      <th>age</th>\n",
              "      <th>diabetes</th>\n",
              "    </tr>\n",
              "  </thead>\n",
              "  <tbody>\n",
              "    <tr>\n",
              "      <th>0</th>\n",
              "      <td>6</td>\n",
              "      <td>148</td>\n",
              "      <td>72</td>\n",
              "      <td>35</td>\n",
              "      <td>0</td>\n",
              "      <td>33.6</td>\n",
              "      <td>0.627</td>\n",
              "      <td>50</td>\n",
              "      <td>1</td>\n",
              "    </tr>\n",
              "    <tr>\n",
              "      <th>1</th>\n",
              "      <td>1</td>\n",
              "      <td>85</td>\n",
              "      <td>66</td>\n",
              "      <td>29</td>\n",
              "      <td>0</td>\n",
              "      <td>26.6</td>\n",
              "      <td>0.351</td>\n",
              "      <td>31</td>\n",
              "      <td>0</td>\n",
              "    </tr>\n",
              "    <tr>\n",
              "      <th>2</th>\n",
              "      <td>8</td>\n",
              "      <td>183</td>\n",
              "      <td>64</td>\n",
              "      <td>0</td>\n",
              "      <td>0</td>\n",
              "      <td>23.3</td>\n",
              "      <td>0.672</td>\n",
              "      <td>32</td>\n",
              "      <td>1</td>\n",
              "    </tr>\n",
              "    <tr>\n",
              "      <th>3</th>\n",
              "      <td>1</td>\n",
              "      <td>89</td>\n",
              "      <td>66</td>\n",
              "      <td>23</td>\n",
              "      <td>94</td>\n",
              "      <td>28.1</td>\n",
              "      <td>0.167</td>\n",
              "      <td>21</td>\n",
              "      <td>0</td>\n",
              "    </tr>\n",
              "    <tr>\n",
              "      <th>4</th>\n",
              "      <td>0</td>\n",
              "      <td>137</td>\n",
              "      <td>40</td>\n",
              "      <td>35</td>\n",
              "      <td>168</td>\n",
              "      <td>43.1</td>\n",
              "      <td>2.288</td>\n",
              "      <td>33</td>\n",
              "      <td>1</td>\n",
              "    </tr>\n",
              "  </tbody>\n",
              "</table>\n",
              "</div>\n",
              "      <button class=\"colab-df-convert\" onclick=\"convertToInteractive('df-955f91e8-3cca-4727-8122-ec8cab710cf2')\"\n",
              "              title=\"Convert this dataframe to an interactive table.\"\n",
              "              style=\"display:none;\">\n",
              "        \n",
              "  <svg xmlns=\"http://www.w3.org/2000/svg\" height=\"24px\"viewBox=\"0 0 24 24\"\n",
              "       width=\"24px\">\n",
              "    <path d=\"M0 0h24v24H0V0z\" fill=\"none\"/>\n",
              "    <path d=\"M18.56 5.44l.94 2.06.94-2.06 2.06-.94-2.06-.94-.94-2.06-.94 2.06-2.06.94zm-11 1L8.5 8.5l.94-2.06 2.06-.94-2.06-.94L8.5 2.5l-.94 2.06-2.06.94zm10 10l.94 2.06.94-2.06 2.06-.94-2.06-.94-.94-2.06-.94 2.06-2.06.94z\"/><path d=\"M17.41 7.96l-1.37-1.37c-.4-.4-.92-.59-1.43-.59-.52 0-1.04.2-1.43.59L10.3 9.45l-7.72 7.72c-.78.78-.78 2.05 0 2.83L4 21.41c.39.39.9.59 1.41.59.51 0 1.02-.2 1.41-.59l7.78-7.78 2.81-2.81c.8-.78.8-2.07 0-2.86zM5.41 20L4 18.59l7.72-7.72 1.47 1.35L5.41 20z\"/>\n",
              "  </svg>\n",
              "      </button>\n",
              "      \n",
              "  <style>\n",
              "    .colab-df-container {\n",
              "      display:flex;\n",
              "      flex-wrap:wrap;\n",
              "      gap: 12px;\n",
              "    }\n",
              "\n",
              "    .colab-df-convert {\n",
              "      background-color: #E8F0FE;\n",
              "      border: none;\n",
              "      border-radius: 50%;\n",
              "      cursor: pointer;\n",
              "      display: none;\n",
              "      fill: #1967D2;\n",
              "      height: 32px;\n",
              "      padding: 0 0 0 0;\n",
              "      width: 32px;\n",
              "    }\n",
              "\n",
              "    .colab-df-convert:hover {\n",
              "      background-color: #E2EBFA;\n",
              "      box-shadow: 0px 1px 2px rgba(60, 64, 67, 0.3), 0px 1px 3px 1px rgba(60, 64, 67, 0.15);\n",
              "      fill: #174EA6;\n",
              "    }\n",
              "\n",
              "    [theme=dark] .colab-df-convert {\n",
              "      background-color: #3B4455;\n",
              "      fill: #D2E3FC;\n",
              "    }\n",
              "\n",
              "    [theme=dark] .colab-df-convert:hover {\n",
              "      background-color: #434B5C;\n",
              "      box-shadow: 0px 1px 3px 1px rgba(0, 0, 0, 0.15);\n",
              "      filter: drop-shadow(0px 1px 2px rgba(0, 0, 0, 0.3));\n",
              "      fill: #FFFFFF;\n",
              "    }\n",
              "  </style>\n",
              "\n",
              "      <script>\n",
              "        const buttonEl =\n",
              "          document.querySelector('#df-955f91e8-3cca-4727-8122-ec8cab710cf2 button.colab-df-convert');\n",
              "        buttonEl.style.display =\n",
              "          google.colab.kernel.accessAllowed ? 'block' : 'none';\n",
              "\n",
              "        async function convertToInteractive(key) {\n",
              "          const element = document.querySelector('#df-955f91e8-3cca-4727-8122-ec8cab710cf2');\n",
              "          const dataTable =\n",
              "            await google.colab.kernel.invokeFunction('convertToInteractive',\n",
              "                                                     [key], {});\n",
              "          if (!dataTable) return;\n",
              "\n",
              "          const docLinkHtml = 'Like what you see? Visit the ' +\n",
              "            '<a target=\"_blank\" href=https://colab.research.google.com/notebooks/data_table.ipynb>data table notebook</a>'\n",
              "            + ' to learn more about interactive tables.';\n",
              "          element.innerHTML = '';\n",
              "          dataTable['output_type'] = 'display_data';\n",
              "          await google.colab.output.renderOutput(dataTable, element);\n",
              "          const docLink = document.createElement('div');\n",
              "          docLink.innerHTML = docLinkHtml;\n",
              "          element.appendChild(docLink);\n",
              "        }\n",
              "      </script>\n",
              "    </div>\n",
              "  </div>\n",
              "  "
            ]
          },
          "metadata": {},
          "execution_count": 4
        }
      ]
    },
    {
      "cell_type": "code",
      "source": [
        "diabetes_data.columns"
      ],
      "metadata": {
        "colab": {
          "base_uri": "https://localhost:8080/"
        },
        "id": "wvu0ksWRyBl8",
        "outputId": "c8ce2239-5ca3-4459-923f-a4db4d602372"
      },
      "execution_count": 5,
      "outputs": [
        {
          "output_type": "execute_result",
          "data": {
            "text/plain": [
              "Index(['pregnancies', 'glucose', 'diastolic', 'triceps', 'insulin', 'bmi',\n",
              "       'dpf', 'age', 'diabetes'],\n",
              "      dtype='object')"
            ]
          },
          "metadata": {},
          "execution_count": 5
        }
      ]
    },
    {
      "cell_type": "code",
      "source": [
        "X = diabetes_data.drop(\"diabetes\", axis = 1).values\n",
        "y = diabetes_data['diabetes'].values"
      ],
      "metadata": {
        "id": "OKTUafppI95W"
      },
      "execution_count": 6,
      "outputs": []
    },
    {
      "cell_type": "code",
      "source": [
        "print(type(X))\n",
        "print(type(y))\n",
        "print(X.shape, y.shape)"
      ],
      "metadata": {
        "colab": {
          "base_uri": "https://localhost:8080/"
        },
        "id": "iRbj_ImCJHmM",
        "outputId": "c6554a88-5a71-4e15-b006-bf08a17ea1bb"
      },
      "execution_count": 7,
      "outputs": [
        {
          "output_type": "stream",
          "name": "stdout",
          "text": [
            "<class 'numpy.ndarray'>\n",
            "<class 'numpy.ndarray'>\n",
            "(768, 8) (768,)\n"
          ]
        }
      ]
    },
    {
      "cell_type": "code",
      "source": [
        "X_train, X_test, y_train, y_test = train_test_split(X, y, test_size=0.2, random_state=41)"
      ],
      "metadata": {
        "id": "R7y1Mi-RM_9F"
      },
      "execution_count": 31,
      "outputs": []
    },
    {
      "cell_type": "markdown",
      "source": [
        "In logistic regression, we will do feature scaling because we want accurate result of predictions. Here we will only scale the independent variable because dependent variable have only 0 and 1 values. Below is the code for it:"
      ],
      "metadata": {
        "id": "jAz6Q9_2gt1H"
      }
    },
    {
      "cell_type": "code",
      "source": [
        "#feature Scaling  \n",
        "from sklearn.preprocessing import StandardScaler    \n",
        "scalar= StandardScaler()    \n",
        "X_train= scalar.fit_transform(X_train)    \n",
        "X_test= scalar.transform(X_test)  "
      ],
      "metadata": {
        "id": "kwYrKnYBNNU4"
      },
      "execution_count": 20,
      "outputs": []
    },
    {
      "cell_type": "code",
      "source": [
        "#3. Create model and train it\n",
        "model = LogisticRegression()\n",
        "model.fit(X_train,y_train)"
      ],
      "metadata": {
        "colab": {
          "base_uri": "https://localhost:8080/"
        },
        "id": "mVm4_LqfyCKL",
        "outputId": "432183f8-b2d1-4dc0-d31c-bd45822a243e"
      },
      "execution_count": 19,
      "outputs": [
        {
          "output_type": "execute_result",
          "data": {
            "text/plain": [
              "LogisticRegression()"
            ]
          },
          "metadata": {},
          "execution_count": 19
        }
      ]
    },
    {
      "cell_type": "code",
      "source": [
        "#attributes of your model\n",
        "model.classes_"
      ],
      "metadata": {
        "colab": {
          "base_uri": "https://localhost:8080/"
        },
        "id": "4dTOwzoYyjnq",
        "outputId": "e2906443-148a-46c7-f12f-13c32b9f4046"
      },
      "execution_count": 21,
      "outputs": [
        {
          "output_type": "execute_result",
          "data": {
            "text/plain": [
              "array([0, 1])"
            ]
          },
          "metadata": {},
          "execution_count": 21
        }
      ]
    },
    {
      "cell_type": "code",
      "source": [
        "model.intercept_"
      ],
      "metadata": {
        "colab": {
          "base_uri": "https://localhost:8080/"
        },
        "id": "3zNOlIAbyrx-",
        "outputId": "1bbedeb8-bc53-4efd-c7ba-c05b2e871c8b"
      },
      "execution_count": 22,
      "outputs": [
        {
          "output_type": "execute_result",
          "data": {
            "text/plain": [
              "array([-0.87388128])"
            ]
          },
          "metadata": {},
          "execution_count": 22
        }
      ]
    },
    {
      "cell_type": "code",
      "source": [
        "model.coef_"
      ],
      "metadata": {
        "colab": {
          "base_uri": "https://localhost:8080/"
        },
        "id": "-NKTNrmLyu1D",
        "outputId": "64bb0708-4ce4-4c25-9091-e45205df9ac7"
      },
      "execution_count": 23,
      "outputs": [
        {
          "output_type": "execute_result",
          "data": {
            "text/plain": [
              "array([[ 0.33565954,  1.03571851, -0.13528263,  0.03489618, -0.14497884,\n",
              "         0.72912567,  0.2853454 ,  0.16835215]])"
            ]
          },
          "metadata": {},
          "execution_count": 23
        }
      ]
    },
    {
      "cell_type": "code",
      "source": [
        "#4. Evaluate the model\n",
        "model.predict_proba(X_test)"
      ],
      "metadata": {
        "colab": {
          "base_uri": "https://localhost:8080/"
        },
        "id": "b_t867ySyw9e",
        "outputId": "97e2129a-05b7-4313-b45c-b49a8c391be8"
      },
      "execution_count": 26,
      "outputs": [
        {
          "output_type": "execute_result",
          "data": {
            "text/plain": [
              "array([[0.93223242, 0.06776758],\n",
              "       [0.42133453, 0.57866547],\n",
              "       [0.57190633, 0.42809367],\n",
              "       [0.57473819, 0.42526181],\n",
              "       [0.90532452, 0.09467548],\n",
              "       [0.22056424, 0.77943576],\n",
              "       [0.60132038, 0.39867962],\n",
              "       [0.80258338, 0.19741662],\n",
              "       [0.80650441, 0.19349559],\n",
              "       [0.85957623, 0.14042377],\n",
              "       [0.83844198, 0.16155802],\n",
              "       [0.97741391, 0.02258609],\n",
              "       [0.92895824, 0.07104176],\n",
              "       [0.77107062, 0.22892938],\n",
              "       [0.04969143, 0.95030857],\n",
              "       [0.89667631, 0.10332369],\n",
              "       [0.98270688, 0.01729312],\n",
              "       [0.79545862, 0.20454138],\n",
              "       [0.41600737, 0.58399263],\n",
              "       [0.6567484 , 0.3432516 ],\n",
              "       [0.13185773, 0.86814227],\n",
              "       [0.94287187, 0.05712813],\n",
              "       [0.68011691, 0.31988309],\n",
              "       [0.76103671, 0.23896329],\n",
              "       [0.86253528, 0.13746472],\n",
              "       [0.7199539 , 0.2800461 ],\n",
              "       [0.86049974, 0.13950026],\n",
              "       [0.94501345, 0.05498655],\n",
              "       [0.38761749, 0.61238251],\n",
              "       [0.90231548, 0.09768452],\n",
              "       [0.72775392, 0.27224608],\n",
              "       [0.64600661, 0.35399339],\n",
              "       [0.53118659, 0.46881341],\n",
              "       [0.61963817, 0.38036183],\n",
              "       [0.95472239, 0.04527761],\n",
              "       [0.92515465, 0.07484535],\n",
              "       [0.6526781 , 0.3473219 ],\n",
              "       [0.90977387, 0.09022613],\n",
              "       [0.59494876, 0.40505124],\n",
              "       [0.75439625, 0.24560375],\n",
              "       [0.88082246, 0.11917754],\n",
              "       [0.84659521, 0.15340479],\n",
              "       [0.27794643, 0.72205357],\n",
              "       [0.70167676, 0.29832324],\n",
              "       [0.12119667, 0.87880333],\n",
              "       [0.9668011 , 0.0331989 ],\n",
              "       [0.05612679, 0.94387321],\n",
              "       [0.61111924, 0.38888076],\n",
              "       [0.34626616, 0.65373384],\n",
              "       [0.31157631, 0.68842369],\n",
              "       [0.74874048, 0.25125952],\n",
              "       [0.73288549, 0.26711451],\n",
              "       [0.96232187, 0.03767813],\n",
              "       [0.95372079, 0.04627921],\n",
              "       [0.70491262, 0.29508738],\n",
              "       [0.88480686, 0.11519314],\n",
              "       [0.76135565, 0.23864435],\n",
              "       [0.91802648, 0.08197352],\n",
              "       [0.37649459, 0.62350541],\n",
              "       [0.76656522, 0.23343478],\n",
              "       [0.97790696, 0.02209304],\n",
              "       [0.24121862, 0.75878138],\n",
              "       [0.30837232, 0.69162768],\n",
              "       [0.18852069, 0.81147931],\n",
              "       [0.67443341, 0.32556659],\n",
              "       [0.75563692, 0.24436308],\n",
              "       [0.91696642, 0.08303358],\n",
              "       [0.24968983, 0.75031017],\n",
              "       [0.64229746, 0.35770254],\n",
              "       [0.12655419, 0.87344581],\n",
              "       [0.82430821, 0.17569179],\n",
              "       [0.95551307, 0.04448693],\n",
              "       [0.66060915, 0.33939085],\n",
              "       [0.37303403, 0.62696597],\n",
              "       [0.71312151, 0.28687849],\n",
              "       [0.59618153, 0.40381847],\n",
              "       [0.21138537, 0.78861463],\n",
              "       [0.80674519, 0.19325481],\n",
              "       [0.90879628, 0.09120372],\n",
              "       [0.71350511, 0.28649489],\n",
              "       [0.22712485, 0.77287515],\n",
              "       [0.61072295, 0.38927705],\n",
              "       [0.77011088, 0.22988912],\n",
              "       [0.64384683, 0.35615317],\n",
              "       [0.0640465 , 0.9359535 ],\n",
              "       [0.61226707, 0.38773293],\n",
              "       [0.78830742, 0.21169258],\n",
              "       [0.53446738, 0.46553262],\n",
              "       [0.86306294, 0.13693706],\n",
              "       [0.80356607, 0.19643393],\n",
              "       [0.43969322, 0.56030678],\n",
              "       [0.06660226, 0.93339774],\n",
              "       [0.58562681, 0.41437319],\n",
              "       [0.72165903, 0.27834097],\n",
              "       [0.24037303, 0.75962697],\n",
              "       [0.8737382 , 0.1262618 ],\n",
              "       [0.32961708, 0.67038292],\n",
              "       [0.9203617 , 0.0796383 ],\n",
              "       [0.92694475, 0.07305525],\n",
              "       [0.53407102, 0.46592898],\n",
              "       [0.74479298, 0.25520702],\n",
              "       [0.2303043 , 0.7696957 ],\n",
              "       [0.8632492 , 0.1367508 ],\n",
              "       [0.91809021, 0.08190979],\n",
              "       [0.70315722, 0.29684278],\n",
              "       [0.97366189, 0.02633811],\n",
              "       [0.88927335, 0.11072665],\n",
              "       [0.69020779, 0.30979221],\n",
              "       [0.58616235, 0.41383765],\n",
              "       [0.25734718, 0.74265282],\n",
              "       [0.70351518, 0.29648482],\n",
              "       [0.70326635, 0.29673365],\n",
              "       [0.28777612, 0.71222388],\n",
              "       [0.2542233 , 0.7457767 ],\n",
              "       [0.96644091, 0.03355909],\n",
              "       [0.04376697, 0.95623303],\n",
              "       [0.71942003, 0.28057997],\n",
              "       [0.93963706, 0.06036294],\n",
              "       [0.87148951, 0.12851049],\n",
              "       [0.51015223, 0.48984777],\n",
              "       [0.36819477, 0.63180523],\n",
              "       [0.30668604, 0.69331396],\n",
              "       [0.43792815, 0.56207185],\n",
              "       [0.85089254, 0.14910746],\n",
              "       [0.88368778, 0.11631222],\n",
              "       [0.91553381, 0.08446619],\n",
              "       [0.73741302, 0.26258698],\n",
              "       [0.57692012, 0.42307988],\n",
              "       [0.58227919, 0.41772081],\n",
              "       [0.80895417, 0.19104583],\n",
              "       [0.93064027, 0.06935973],\n",
              "       [0.87081487, 0.12918513],\n",
              "       [0.10323214, 0.89676786],\n",
              "       [0.92419165, 0.07580835],\n",
              "       [0.71877661, 0.28122339],\n",
              "       [0.36892712, 0.63107288],\n",
              "       [0.75132286, 0.24867714],\n",
              "       [0.63688859, 0.36311141],\n",
              "       [0.25430924, 0.74569076],\n",
              "       [0.61154448, 0.38845552],\n",
              "       [0.52395548, 0.47604452],\n",
              "       [0.99752484, 0.00247516],\n",
              "       [0.84928992, 0.15071008],\n",
              "       [0.16511555, 0.83488445],\n",
              "       [0.28990517, 0.71009483],\n",
              "       [0.74853357, 0.25146643],\n",
              "       [0.67863894, 0.32136106],\n",
              "       [0.85070502, 0.14929498],\n",
              "       [0.87493745, 0.12506255],\n",
              "       [0.32545897, 0.67454103],\n",
              "       [0.75431835, 0.24568165],\n",
              "       [0.9696532 , 0.0303468 ],\n",
              "       [0.91953448, 0.08046552],\n",
              "       [0.79266639, 0.20733361]])"
            ]
          },
          "metadata": {},
          "execution_count": 26
        }
      ]
    },
    {
      "cell_type": "code",
      "source": [
        "#get the actual predictions\n",
        "y_pred = model.predict(X_test)\n",
        "print(y_pred)"
      ],
      "metadata": {
        "colab": {
          "base_uri": "https://localhost:8080/"
        },
        "id": "v2zhJWB7zAt7",
        "outputId": "129d0456-2ee5-46b4-a27b-ccbf512084e3"
      },
      "execution_count": 25,
      "outputs": [
        {
          "output_type": "stream",
          "name": "stdout",
          "text": [
            "[0 1 0 0 0 1 0 0 0 0 0 0 0 0 1 0 0 0 1 0 1 0 0 0 0 0 0 0 1 0 0 0 0 0 0 0 0\n",
            " 0 0 0 0 0 1 0 1 0 1 0 1 1 0 0 0 0 0 0 0 0 1 0 0 1 1 1 0 0 0 1 0 1 0 0 0 1\n",
            " 0 0 1 0 0 0 1 0 0 0 1 0 0 0 0 0 1 1 0 0 1 0 1 0 0 0 0 1 0 0 0 0 0 0 0 1 0\n",
            " 0 1 1 0 1 0 0 0 0 1 1 1 0 0 0 0 0 0 0 0 0 1 0 0 1 0 0 1 0 0 0 0 1 1 0 0 0\n",
            " 0 1 0 0 0 0]\n"
          ]
        }
      ]
    },
    {
      "cell_type": "code",
      "source": [
        "confusion_matrix(y_test, y_pred)"
      ],
      "metadata": {
        "colab": {
          "base_uri": "https://localhost:8080/"
        },
        "id": "2KJjnftizWJf",
        "outputId": "db15953d-c189-4f52-cd76-4226349626db"
      },
      "execution_count": 27,
      "outputs": [
        {
          "output_type": "execute_result",
          "data": {
            "text/plain": [
              "array([[90,  9],\n",
              "       [25, 30]])"
            ]
          },
          "metadata": {},
          "execution_count": 27
        }
      ]
    },
    {
      "cell_type": "code",
      "source": [
        "#visualization of confusion matrix\n",
        "cm = confusion_matrix(y_test, y_pred)\n",
        "\n",
        "fig, ax = plt.subplots(figsize=(8, 8))\n",
        "ax.imshow(cm)\n",
        "ax.grid(False)\n",
        "ax.xaxis.set(ticks=(0, 1), ticklabels=('Predicted 0s', 'Predicted 1s'))\n",
        "ax.yaxis.set(ticks=(0, 1), ticklabels=('Actual 0s', 'Actual 1s'))\n",
        "ax.set_ylim(1.5, -0.5)\n",
        "for i in range(2):\n",
        "    for j in range(2):\n",
        "        ax.text(j, i, cm[i, j], ha='center', va='center', color='red')\n",
        "plt.show()"
      ],
      "metadata": {
        "colab": {
          "base_uri": "https://localhost:8080/",
          "height": 483
        },
        "id": "jDGrBm5Nz9GT",
        "outputId": "215b67df-21ac-4980-d440-6db911e8285c"
      },
      "execution_count": 28,
      "outputs": [
        {
          "output_type": "display_data",
          "data": {
            "text/plain": [
              "<Figure size 576x576 with 1 Axes>"
            ],
            "image/png": "[encoded data removed]"
          },
          "metadata": {
            "needs_background": "light"
          }
        }
      ]
    },
    {
      "cell_type": "code",
      "source": [
        "#more comprehensive report on the classification \n",
        "print(classification_report(y_test, y_pred))"
      ],
      "metadata": {
        "colab": {
          "base_uri": "https://localhost:8080/"
        },
        "id": "eTsATcIB0WjP",
        "outputId": "aa8221aa-6c67-4271-c06c-aa32f4cc569f"
      },
      "execution_count": 30,
      "outputs": [
        {
          "output_type": "stream",
          "name": "stdout",
          "text": [
            "              precision    recall  f1-score   support\n",
            "\n",
            "           0       0.78      0.91      0.84        99\n",
            "           1       0.77      0.55      0.64        55\n",
            "\n",
            "    accuracy                           0.78       154\n",
            "   macro avg       0.78      0.73      0.74       154\n",
            "weighted avg       0.78      0.78      0.77       154\n",
            "\n"
          ]
        }
      ]
    }
  ]
}